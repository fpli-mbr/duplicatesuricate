{
 "cells": [
  {
   "cell_type": "markdown",
   "metadata": {},
   "source": [
    "# Example of Deduplication"
   ]
  },
  {
   "cell_type": "code",
   "execution_count": 30,
   "metadata": {
    "collapsed": true
   },
   "outputs": [],
   "source": [
    "import deduplication as dep\n",
    "reload(dep);"
   ]
  },
  {
   "cell_type": "markdown",
   "metadata": {},
   "source": [
    "## 1. Loading Data"
   ]
  },
  {
   "cell_type": "markdown",
   "metadata": {},
   "source": [
    "### Loading sample data"
   ]
  },
  {
   "cell_type": "code",
   "execution_count": 31,
   "metadata": {
    "collapsed": false
   },
   "outputs": [
    {
     "data": {
      "text/html": [
       "<div>\n",
       "<style scoped>\n",
       "    .dataframe tbody tr th:only-of-type {\n",
       "        vertical-align: middle;\n",
       "    }\n",
       "\n",
       "    .dataframe tbody tr th {\n",
       "        vertical-align: top;\n",
       "    }\n",
       "\n",
       "    .dataframe thead th {\n",
       "        text-align: right;\n",
       "    }\n",
       "</style>\n",
       "<table border=\"1\" class=\"dataframe\">\n",
       "  <thead>\n",
       "    <tr style=\"text-align: right;\">\n",
       "      <th></th>\n",
       "      <th>name</th>\n",
       "      <th>duns</th>\n",
       "      <th>city</th>\n",
       "      <th>postalcode</th>\n",
       "      <th>street</th>\n",
       "      <th>country_code</th>\n",
       "    </tr>\n",
       "    <tr>\n",
       "      <th>gid</th>\n",
       "      <th></th>\n",
       "      <th></th>\n",
       "      <th></th>\n",
       "      <th></th>\n",
       "      <th></th>\n",
       "      <th></th>\n",
       "    </tr>\n",
       "  </thead>\n",
       "  <tbody>\n",
       "    <tr>\n",
       "      <th>661a0913-d82f-4186-b191-58a93c06ba0c</th>\n",
       "      <td>phoenix contact hmi-ipc</td>\n",
       "      <td>NaN</td>\n",
       "      <td>filderstadt</td>\n",
       "      <td>70794</td>\n",
       "      <td>29 kurze str</td>\n",
       "      <td>DE</td>\n",
       "    </tr>\n",
       "    <tr>\n",
       "      <th>774bcf85-7a03-4a6d-9ec3-f5474b5e996d</th>\n",
       "      <td>aviasport sa</td>\n",
       "      <td>464418029</td>\n",
       "      <td>tres cantos</td>\n",
       "      <td>28760</td>\n",
       "      <td>11 calle almazara</td>\n",
       "      <td>ES</td>\n",
       "    </tr>\n",
       "    <tr>\n",
       "      <th>efb815f9-ea51-4728-babb-fdd9c294981d</th>\n",
       "      <td>pro-idee gmbh co kg</td>\n",
       "      <td>312865546</td>\n",
       "      <td>aachen</td>\n",
       "      <td>52070</td>\n",
       "      <td>gut-dmme-str</td>\n",
       "      <td>DE</td>\n",
       "    </tr>\n",
       "  </tbody>\n",
       "</table>\n",
       "</div>"
      ],
      "text/plain": [
       "                                                         name       duns  \\\n",
       "gid                                                                        \n",
       "661a0913-d82f-4186-b191-58a93c06ba0c  phoenix contact hmi-ipc        NaN   \n",
       "774bcf85-7a03-4a6d-9ec3-f5474b5e996d             aviasport sa  464418029   \n",
       "efb815f9-ea51-4728-babb-fdd9c294981d      pro-idee gmbh co kg  312865546   \n",
       "\n",
       "                                             city postalcode  \\\n",
       "gid                                                            \n",
       "661a0913-d82f-4186-b191-58a93c06ba0c  filderstadt      70794   \n",
       "774bcf85-7a03-4a6d-9ec3-f5474b5e996d  tres cantos      28760   \n",
       "efb815f9-ea51-4728-babb-fdd9c294981d       aachen      52070   \n",
       "\n",
       "                                                 street country_code  \n",
       "gid                                                                   \n",
       "661a0913-d82f-4186-b191-58a93c06ba0c       29 kurze str           DE  \n",
       "774bcf85-7a03-4a6d-9ec3-f5474b5e996d  11 calle almazara           ES  \n",
       "efb815f9-ea51-4728-babb-fdd9c294981d       gut-dmme-str           DE  "
      ]
     },
     "execution_count": 31,
     "metadata": {},
     "output_type": "execute_result"
    }
   ],
   "source": [
    "df_input_records = pd.read_csv('df_impairs.csv',index_col=0,dtype={'duns':str,'postalcode':str},sep='|')\n",
    "df_target_records = pd.read_csv('df_pairs.csv',index_col=0,dtype={'duns':str,'postalcode':str},sep='|')\n",
    "df_input_records.sample(3)"
   ]
  },
  {
   "cell_type": "markdown",
   "metadata": {},
   "source": [
    "### Cleaning that data"
   ]
  },
  {
   "cell_type": "code",
   "execution_count": 32,
   "metadata": {
    "collapsed": false
   },
   "outputs": [
    {
     "data": {
      "text/html": [
       "<div>\n",
       "<style scoped>\n",
       "    .dataframe tbody tr th:only-of-type {\n",
       "        vertical-align: middle;\n",
       "    }\n",
       "\n",
       "    .dataframe tbody tr th {\n",
       "        vertical-align: top;\n",
       "    }\n",
       "\n",
       "    .dataframe thead th {\n",
       "        text-align: right;\n",
       "    }\n",
       "</style>\n",
       "<table border=\"1\" class=\"dataframe\">\n",
       "  <thead>\n",
       "    <tr style=\"text-align: right;\">\n",
       "      <th></th>\n",
       "      <th>name</th>\n",
       "      <th>duns</th>\n",
       "      <th>city</th>\n",
       "      <th>postalcode</th>\n",
       "      <th>street</th>\n",
       "      <th>country_code</th>\n",
       "      <th>name_wostopwords</th>\n",
       "      <th>street_wostopwords</th>\n",
       "      <th>name_acronym</th>\n",
       "      <th>postalcode_1stdigit</th>\n",
       "      <th>postalcode_2digits</th>\n",
       "      <th>name_len</th>\n",
       "      <th>hasairbusname</th>\n",
       "      <th>isbigcity</th>\n",
       "    </tr>\n",
       "    <tr>\n",
       "      <th>gid</th>\n",
       "      <th></th>\n",
       "      <th></th>\n",
       "      <th></th>\n",
       "      <th></th>\n",
       "      <th></th>\n",
       "      <th></th>\n",
       "      <th></th>\n",
       "      <th></th>\n",
       "      <th></th>\n",
       "      <th></th>\n",
       "      <th></th>\n",
       "      <th></th>\n",
       "      <th></th>\n",
       "      <th></th>\n",
       "    </tr>\n",
       "  </thead>\n",
       "  <tbody>\n",
       "    <tr>\n",
       "      <th>b537e8e0-1a92-4694-8ef7-c43c4b7a208f</th>\n",
       "      <td>jamara modelltechnik</td>\n",
       "      <td>322899675</td>\n",
       "      <td>aichstetten</td>\n",
       "      <td>88317</td>\n",
       "      <td>5 am lauerbhl</td>\n",
       "      <td>DE</td>\n",
       "      <td>jamara modelltechnik</td>\n",
       "      <td>lauerbhl 5 am</td>\n",
       "      <td>jm</td>\n",
       "      <td>8</td>\n",
       "      <td>88</td>\n",
       "      <td>20</td>\n",
       "      <td>0</td>\n",
       "      <td>0</td>\n",
       "    </tr>\n",
       "    <tr>\n",
       "      <th>e8695ac0-8ef8-4bd1-bbfb-36009497d10a</th>\n",
       "      <td>cadilac laser gmbh</td>\n",
       "      <td>None</td>\n",
       "      <td>albstadt</td>\n",
       "      <td>72459</td>\n",
       "      <td>herderstr</td>\n",
       "      <td>DE</td>\n",
       "      <td>cadilac laser</td>\n",
       "      <td>herder</td>\n",
       "      <td>clg</td>\n",
       "      <td>7</td>\n",
       "      <td>72</td>\n",
       "      <td>18</td>\n",
       "      <td>0</td>\n",
       "      <td>0</td>\n",
       "    </tr>\n",
       "    <tr>\n",
       "      <th>941ec1ab-0b44-4a66-abd6-69eead48b1ca</th>\n",
       "      <td>airtanker services ltd</td>\n",
       "      <td>None</td>\n",
       "      <td>carterton</td>\n",
       "      <td>ox18</td>\n",
       "      <td>airtanker hub raf brize norton</td>\n",
       "      <td>GB</td>\n",
       "      <td>airtanker</td>\n",
       "      <td>raf airtanker hub norton brize</td>\n",
       "      <td>asl</td>\n",
       "      <td>o</td>\n",
       "      <td>ox</td>\n",
       "      <td>22</td>\n",
       "      <td>0</td>\n",
       "      <td>0</td>\n",
       "    </tr>\n",
       "  </tbody>\n",
       "</table>\n",
       "</div>"
      ],
      "text/plain": [
       "                                                        name       duns  \\\n",
       "gid                                                                       \n",
       "b537e8e0-1a92-4694-8ef7-c43c4b7a208f    jamara modelltechnik  322899675   \n",
       "e8695ac0-8ef8-4bd1-bbfb-36009497d10a      cadilac laser gmbh       None   \n",
       "941ec1ab-0b44-4a66-abd6-69eead48b1ca  airtanker services ltd       None   \n",
       "\n",
       "                                             city postalcode  \\\n",
       "gid                                                            \n",
       "b537e8e0-1a92-4694-8ef7-c43c4b7a208f  aichstetten      88317   \n",
       "e8695ac0-8ef8-4bd1-bbfb-36009497d10a     albstadt      72459   \n",
       "941ec1ab-0b44-4a66-abd6-69eead48b1ca    carterton       ox18   \n",
       "\n",
       "                                                              street  \\\n",
       "gid                                                                    \n",
       "b537e8e0-1a92-4694-8ef7-c43c4b7a208f                   5 am lauerbhl   \n",
       "e8695ac0-8ef8-4bd1-bbfb-36009497d10a                       herderstr   \n",
       "941ec1ab-0b44-4a66-abd6-69eead48b1ca  airtanker hub raf brize norton   \n",
       "\n",
       "                                     country_code      name_wostopwords  \\\n",
       "gid                                                                       \n",
       "b537e8e0-1a92-4694-8ef7-c43c4b7a208f           DE  jamara modelltechnik   \n",
       "e8695ac0-8ef8-4bd1-bbfb-36009497d10a           DE         cadilac laser   \n",
       "941ec1ab-0b44-4a66-abd6-69eead48b1ca           GB             airtanker   \n",
       "\n",
       "                                                  street_wostopwords  \\\n",
       "gid                                                                    \n",
       "b537e8e0-1a92-4694-8ef7-c43c4b7a208f                   lauerbhl 5 am   \n",
       "e8695ac0-8ef8-4bd1-bbfb-36009497d10a                          herder   \n",
       "941ec1ab-0b44-4a66-abd6-69eead48b1ca  raf airtanker hub norton brize   \n",
       "\n",
       "                                     name_acronym postalcode_1stdigit  \\\n",
       "gid                                                                     \n",
       "b537e8e0-1a92-4694-8ef7-c43c4b7a208f           jm                   8   \n",
       "e8695ac0-8ef8-4bd1-bbfb-36009497d10a          clg                   7   \n",
       "941ec1ab-0b44-4a66-abd6-69eead48b1ca          asl                   o   \n",
       "\n",
       "                                     postalcode_2digits  name_len  \\\n",
       "gid                                                                 \n",
       "b537e8e0-1a92-4694-8ef7-c43c4b7a208f                 88        20   \n",
       "e8695ac0-8ef8-4bd1-bbfb-36009497d10a                 72        18   \n",
       "941ec1ab-0b44-4a66-abd6-69eead48b1ca                 ox        22   \n",
       "\n",
       "                                      hasairbusname  isbigcity  \n",
       "gid                                                             \n",
       "b537e8e0-1a92-4694-8ef7-c43c4b7a208f              0          0  \n",
       "e8695ac0-8ef8-4bd1-bbfb-36009497d10a              0          0  \n",
       "941ec1ab-0b44-4a66-abd6-69eead48b1ca              0          0  "
      ]
     },
     "execution_count": 32,
     "metadata": {},
     "output_type": "execute_result"
    }
   ],
   "source": [
    "from preprocessing import clean_db\n",
    "for x in [df_input_records,df_target_records]:\n",
    "    x = clean_db(x)\n",
    "df_target_records.sample(3)"
   ]
  },
  {
   "cell_type": "markdown",
   "metadata": {},
   "source": [
    "# Machine Learning - based deduplication"
   ]
  },
  {
   "cell_type": "markdown",
   "metadata": {},
   "source": [
    "## Creating a training table for the decision model"
   ]
  },
  {
   "cell_type": "markdown",
   "metadata": {},
   "source": [
    "### Creating a side-by-side comparison table for manual labelling\n",
    "using results from a rule-based decision model, for example (see below)"
   ]
  },
  {
   "cell_type": "markdown",
   "metadata": {},
   "source": [
    "### Loading a supervised learning table"
   ]
  },
  {
   "cell_type": "code",
   "execution_count": 33,
   "metadata": {
    "collapsed": false
   },
   "outputs": [],
   "source": [
    "supervised_learning=pd.read_excel('supervised_table.xlsx')\n",
    "nix=1000\n",
    "s_inputs=supervised_learning['ix_source'].iloc[:nix]\n",
    "s_targets=supervised_learning['ix_target'].iloc[:nix]\n",
    "s_true=supervised_learning['y_true'].iloc[:nix]"
   ]
  },
  {
   "cell_type": "markdown",
   "metadata": {},
   "source": [
    "### Creating the training table"
   ]
  },
  {
   "cell_type": "code",
   "execution_count": 34,
   "metadata": {
    "collapsed": false
   },
   "outputs": [
    {
     "name": "stdout",
     "output_type": "stream",
     "text": [
      "0    916\n",
      "1     84\n",
      "Name: y_true, dtype: int64\n"
     ]
    },
    {
     "data": {
      "text/html": [
       "<div>\n",
       "<style scoped>\n",
       "    .dataframe tbody tr th:only-of-type {\n",
       "        vertical-align: middle;\n",
       "    }\n",
       "\n",
       "    .dataframe tbody tr th {\n",
       "        vertical-align: top;\n",
       "    }\n",
       "\n",
       "    .dataframe thead th {\n",
       "        text-align: right;\n",
       "    }\n",
       "</style>\n",
       "<table border=\"1\" class=\"dataframe\">\n",
       "  <thead>\n",
       "    <tr style=\"text-align: right;\">\n",
       "      <th></th>\n",
       "      <th>city_fuzzyscore</th>\n",
       "      <th>country_code_exactscore</th>\n",
       "      <th>duns_exactscore</th>\n",
       "      <th>name_acronymscore</th>\n",
       "      <th>name_fuzzyscore</th>\n",
       "      <th>name_tokenscore</th>\n",
       "      <th>name_wostopwords_acronymscore</th>\n",
       "      <th>name_wostopwords_fuzzyscore</th>\n",
       "      <th>name_wostopwords_tokenscore</th>\n",
       "      <th>street_fuzzyscore</th>\n",
       "      <th>street_tokenscore</th>\n",
       "      <th>street_wostopwords_fuzzyscore</th>\n",
       "      <th>street_wostopwords_tokenscore</th>\n",
       "      <th>y_true</th>\n",
       "    </tr>\n",
       "  </thead>\n",
       "  <tbody>\n",
       "    <tr>\n",
       "      <th>565</th>\n",
       "      <td>0.12</td>\n",
       "      <td>1</td>\n",
       "      <td>0</td>\n",
       "      <td>0.0</td>\n",
       "      <td>0.41</td>\n",
       "      <td>0.333333</td>\n",
       "      <td>-1.0</td>\n",
       "      <td>0.24</td>\n",
       "      <td>0.0</td>\n",
       "      <td>0.45</td>\n",
       "      <td>0.0</td>\n",
       "      <td>0.39</td>\n",
       "      <td>0.0</td>\n",
       "      <td>0</td>\n",
       "    </tr>\n",
       "    <tr>\n",
       "      <th>209</th>\n",
       "      <td>0.31</td>\n",
       "      <td>1</td>\n",
       "      <td>-1</td>\n",
       "      <td>0.0</td>\n",
       "      <td>0.49</td>\n",
       "      <td>0.333333</td>\n",
       "      <td>-1.0</td>\n",
       "      <td>0.32</td>\n",
       "      <td>0.0</td>\n",
       "      <td>0.52</td>\n",
       "      <td>0.0</td>\n",
       "      <td>0.38</td>\n",
       "      <td>0.0</td>\n",
       "      <td>0</td>\n",
       "    </tr>\n",
       "    <tr>\n",
       "      <th>188</th>\n",
       "      <td>0.00</td>\n",
       "      <td>1</td>\n",
       "      <td>-1</td>\n",
       "      <td>0.0</td>\n",
       "      <td>0.50</td>\n",
       "      <td>0.333333</td>\n",
       "      <td>-1.0</td>\n",
       "      <td>0.11</td>\n",
       "      <td>0.0</td>\n",
       "      <td>0.44</td>\n",
       "      <td>0.0</td>\n",
       "      <td>0.32</td>\n",
       "      <td>0.0</td>\n",
       "      <td>0</td>\n",
       "    </tr>\n",
       "  </tbody>\n",
       "</table>\n",
       "</div>"
      ],
      "text/plain": [
       "     city_fuzzyscore  country_code_exactscore  duns_exactscore  \\\n",
       "565             0.12                        1                0   \n",
       "209             0.31                        1               -1   \n",
       "188             0.00                        1               -1   \n",
       "\n",
       "     name_acronymscore  name_fuzzyscore  name_tokenscore  \\\n",
       "565                0.0             0.41         0.333333   \n",
       "209                0.0             0.49         0.333333   \n",
       "188                0.0             0.50         0.333333   \n",
       "\n",
       "     name_wostopwords_acronymscore  name_wostopwords_fuzzyscore  \\\n",
       "565                           -1.0                         0.24   \n",
       "209                           -1.0                         0.32   \n",
       "188                           -1.0                         0.11   \n",
       "\n",
       "     name_wostopwords_tokenscore  street_fuzzyscore  street_tokenscore  \\\n",
       "565                          0.0               0.45                0.0   \n",
       "209                          0.0               0.52                0.0   \n",
       "188                          0.0               0.44                0.0   \n",
       "\n",
       "     street_wostopwords_fuzzyscore  street_wostopwords_tokenscore  y_true  \n",
       "565                           0.39                            0.0       0  \n",
       "209                           0.38                            0.0       0  \n",
       "188                           0.32                            0.0       0  "
      ]
     },
     "execution_count": 34,
     "metadata": {},
     "output_type": "execute_result"
    }
   ],
   "source": [
    "dummymodel=dep.TrainerModel(scoredict={'fuzzy':['name','name_wostopwords',\n",
    "                                               'street','street_wostopwords',\n",
    "                                               'city'],\n",
    "                                      'exact':['duns','country_code'],\n",
    "                                      'token':['name','name_wostopwords',\n",
    "                                               'street','street_wostopwords'],\n",
    "                                      'acronym':['name','name_wostopwords']})\n",
    "sur=dep.Suricate(input_records=df_input_records,\n",
    "                target_records=df_target_records,\n",
    "                model=dummymodel)\n",
    "training_table=sur.build_training_table(inputs=s_inputs,targets=s_targets,y_true=s_true).fillna(-1)\n",
    "#x2=sur.chain_build_labelled_table(inputs=s_inputs,targets=s_targets)\n",
    "print(training_table['y_true'].value_counts())\n",
    "training_table.sample(3)"
   ]
  },
  {
   "cell_type": "markdown",
   "metadata": {},
   "source": [
    "### Train the decision model"
   ]
  },
  {
   "cell_type": "code",
   "execution_count": 35,
   "metadata": {
    "collapsed": false
   },
   "outputs": [],
   "source": [
    "X_train = training_table.iloc[:,:-1].astype(float)\n",
    "y_train= training_table.iloc[:,-1].astype(int)"
   ]
  },
  {
   "cell_type": "code",
   "execution_count": 36,
   "metadata": {
    "collapsed": false
   },
   "outputs": [
    {
     "name": "stdout",
     "output_type": "stream",
     "text": [
      "shape of training table  (1000, 13)\n",
      "number of positives in table 84\n",
      "precision score on training data: 1.0\n",
      "recall score on training data: 1.0\n",
      "time elapsed 3.607531 seconds\n"
     ]
    }
   ],
   "source": [
    "evaluator=dep.MLEvaluationModel()\n",
    "evaluator.fit(X=X_train,y=y_train)"
   ]
  },
  {
   "cell_type": "markdown",
   "metadata": {},
   "source": [
    "### Adding filtering rules to speed up the process (Optional)"
   ]
  },
  {
   "cell_type": "markdown",
   "metadata": {},
   "source": [
    "filter on records that match exactly the country code, or that match the duns number"
   ]
  },
  {
   "cell_type": "code",
   "execution_count": 37,
   "metadata": {
    "collapsed": true
   },
   "outputs": [],
   "source": [
    "filterdict={'all':['country_code'],\n",
    "           'any':['duns']}"
   ]
  },
  {
   "cell_type": "markdown",
   "metadata": {},
   "source": [
    "from those filtered records, filter on records who have a roughly similar name or address, or share the same duns"
   ]
  },
  {
   "cell_type": "code",
   "execution_count": 38,
   "metadata": {
    "collapsed": true
   },
   "outputs": [],
   "source": [
    "intermediate_thresholds={'name_wostopwords_fuzzyscore':0.6,'street_wostopwords_fuzzyscore':0.6, 'duns_exactscore':1.0,'aggfunc':'any'}"
   ]
  },
  {
   "cell_type": "markdown",
   "metadata": {
    "collapsed": true
   },
   "source": [
    "## Launching the deduplication"
   ]
  },
  {
   "cell_type": "code",
   "execution_count": 39,
   "metadata": {
    "collapsed": false
   },
   "outputs": [],
   "source": [
    "sur=dep.Suricate(input_records=df_input_records,target_records=df_target_records,\n",
    "                 filterdict=filterdict,\n",
    "                 intermediate_thresholds=intermediate_thresholds,\n",
    "                 model=evaluator)"
   ]
  },
  {
   "cell_type": "markdown",
   "metadata": {},
   "source": [
    "### Possibility 1: return only good matches (for run mode)"
   ]
  },
  {
   "cell_type": "code",
   "execution_count": 40,
   "metadata": {
    "collapsed": false
   },
   "outputs": [
    {
     "name": "stdout",
     "output_type": "stream",
     "text": [
      "starting deduplication at 2018-02-06 09:41:13.010887\n",
      "1 of 10 inputs records deduplicated | found 0 of 1 max possible matches | time elapsed 0.253161 s\n",
      "2 of 10 inputs records deduplicated | found 0 of 1 max possible matches | time elapsed 0.231388 s\n",
      "3 of 10 inputs records deduplicated | found 0 of 1 max possible matches | time elapsed 0.250355 s\n",
      "4 of 10 inputs records deduplicated | found 1 of 1 max possible matches | time elapsed 0.244689 s\n",
      "5 of 10 inputs records deduplicated | found 1 of 1 max possible matches | time elapsed 0.22009 s\n",
      "6 of 10 inputs records deduplicated | found 1 of 1 max possible matches | time elapsed 0.246758 s\n",
      "7 of 10 inputs records deduplicated | found 1 of 1 max possible matches | time elapsed 0.259941 s\n",
      "8 of 10 inputs records deduplicated | found 0 of 1 max possible matches | time elapsed 0.238129 s\n",
      "9 of 10 inputs records deduplicated | found 1 of 1 max possible matches | time elapsed 0.198179 s\n",
      "10 of 10 inputs records deduplicated | found 1 of 1 max possible matches | time elapsed 0.264086 s\n",
      "finished work at 2018-02-06 09:41:15.419575\n"
     ]
    },
    {
     "data": {
      "text/html": [
       "<div>\n",
       "<style scoped>\n",
       "    .dataframe tbody tr th:only-of-type {\n",
       "        vertical-align: middle;\n",
       "    }\n",
       "\n",
       "    .dataframe tbody tr th {\n",
       "        vertical-align: top;\n",
       "    }\n",
       "\n",
       "    .dataframe thead th {\n",
       "        text-align: right;\n",
       "    }\n",
       "</style>\n",
       "<table border=\"1\" class=\"dataframe\">\n",
       "  <thead>\n",
       "    <tr style=\"text-align: right;\">\n",
       "      <th></th>\n",
       "      <th>ix_source</th>\n",
       "      <th>ix_target</th>\n",
       "      <th>name_source</th>\n",
       "      <th>name_target</th>\n",
       "      <th>country_code_source</th>\n",
       "      <th>country_code_target</th>\n",
       "      <th>street_source</th>\n",
       "      <th>street_target</th>\n",
       "      <th>duns_source</th>\n",
       "      <th>duns_target</th>\n",
       "      <th>name_fuzzyscore</th>\n",
       "      <th>street_fuzzyscore</th>\n",
       "      <th>avg_fuzzyscore</th>\n",
       "      <th>duns_exactscore</th>\n",
       "      <th>n_exactmatches</th>\n",
       "    </tr>\n",
       "  </thead>\n",
       "  <tbody>\n",
       "    <tr>\n",
       "      <th>1</th>\n",
       "      <td>ff973ba5-ab42-42e0-8244-6aa82de46691</td>\n",
       "      <td>c3200b89-b646-4b61-affb-76023e5915ef</td>\n",
       "      <td>acm</td>\n",
       "      <td>acm</td>\n",
       "      <td>FR</td>\n",
       "      <td>FR</td>\n",
       "      <td>9 rue de la gare</td>\n",
       "      <td>9 rue de la gare</td>\n",
       "      <td>380071407</td>\n",
       "      <td>None</td>\n",
       "      <td>1.0</td>\n",
       "      <td>1.00</td>\n",
       "      <td>1.000</td>\n",
       "      <td>None</td>\n",
       "      <td>0</td>\n",
       "    </tr>\n",
       "    <tr>\n",
       "      <th>3</th>\n",
       "      <td>e2a2da69-3aa4-44e2-ae5b-4bbd2cbdc238</td>\n",
       "      <td>c906f2e3-bd4c-4785-9d60-95f19579a04c</td>\n",
       "      <td>botschaft afghanistan</td>\n",
       "      <td>botschaft afghanistan</td>\n",
       "      <td>DE</td>\n",
       "      <td>DE</td>\n",
       "      <td>3 taunusstraaye</td>\n",
       "      <td>3 taunusstr</td>\n",
       "      <td>None</td>\n",
       "      <td>None</td>\n",
       "      <td>1.0</td>\n",
       "      <td>0.85</td>\n",
       "      <td>0.925</td>\n",
       "      <td>None</td>\n",
       "      <td>0</td>\n",
       "    </tr>\n",
       "    <tr>\n",
       "      <th>2</th>\n",
       "      <td>6097f4c6-8515-41fb-b5e5-549c81140848</td>\n",
       "      <td>f704e1f0-b240-4461-a741-b41b5c30b476</td>\n",
       "      <td>bildungswerk der wirtschaft hamburg</td>\n",
       "      <td>bildungswerk der wirtschaft hamburg</td>\n",
       "      <td>DE</td>\n",
       "      <td>DE</td>\n",
       "      <td>10 kapstadtring</td>\n",
       "      <td>10 kapstadtring</td>\n",
       "      <td>None</td>\n",
       "      <td>None</td>\n",
       "      <td>1.0</td>\n",
       "      <td>1.00</td>\n",
       "      <td>1.000</td>\n",
       "      <td>None</td>\n",
       "      <td>0</td>\n",
       "    </tr>\n",
       "    <tr>\n",
       "      <th>4</th>\n",
       "      <td>21c09dde-cff3-4c45-a2f1-46a99e6e1587</td>\n",
       "      <td>1b932c6a-3719-4f78-ba6e-c4ffdf0cc344</td>\n",
       "      <td>hatfield and dawson consulting</td>\n",
       "      <td>hatfield and dawson consulting</td>\n",
       "      <td>US</td>\n",
       "      <td>US</td>\n",
       "      <td>greenwood ave n</td>\n",
       "      <td>greenwood ave n</td>\n",
       "      <td>099615556</td>\n",
       "      <td>None</td>\n",
       "      <td>1.0</td>\n",
       "      <td>1.00</td>\n",
       "      <td>1.000</td>\n",
       "      <td>None</td>\n",
       "      <td>0</td>\n",
       "    </tr>\n",
       "    <tr>\n",
       "      <th>0</th>\n",
       "      <td>5ff704ee-399e-4fbd-b604-51b6ced944dd</td>\n",
       "      <td>af8133f8-361f-494e-92dc-ab3c72637d56</td>\n",
       "      <td>berlinzeppelin</td>\n",
       "      <td>berlinzeppelin</td>\n",
       "      <td>DE</td>\n",
       "      <td>DE</td>\n",
       "      <td>4 rottweiler str</td>\n",
       "      <td>4 rottweiler str</td>\n",
       "      <td>None</td>\n",
       "      <td>None</td>\n",
       "      <td>1.0</td>\n",
       "      <td>1.00</td>\n",
       "      <td>1.000</td>\n",
       "      <td>None</td>\n",
       "      <td>0</td>\n",
       "    </tr>\n",
       "  </tbody>\n",
       "</table>\n",
       "</div>"
      ],
      "text/plain": [
       "                              ix_source                             ix_target  \\\n",
       "1  ff973ba5-ab42-42e0-8244-6aa82de46691  c3200b89-b646-4b61-affb-76023e5915ef   \n",
       "3  e2a2da69-3aa4-44e2-ae5b-4bbd2cbdc238  c906f2e3-bd4c-4785-9d60-95f19579a04c   \n",
       "2  6097f4c6-8515-41fb-b5e5-549c81140848  f704e1f0-b240-4461-a741-b41b5c30b476   \n",
       "4  21c09dde-cff3-4c45-a2f1-46a99e6e1587  1b932c6a-3719-4f78-ba6e-c4ffdf0cc344   \n",
       "0  5ff704ee-399e-4fbd-b604-51b6ced944dd  af8133f8-361f-494e-92dc-ab3c72637d56   \n",
       "\n",
       "                           name_source                          name_target  \\\n",
       "1                                  acm                                  acm   \n",
       "3                botschaft afghanistan                botschaft afghanistan   \n",
       "2  bildungswerk der wirtschaft hamburg  bildungswerk der wirtschaft hamburg   \n",
       "4       hatfield and dawson consulting       hatfield and dawson consulting   \n",
       "0                       berlinzeppelin                       berlinzeppelin   \n",
       "\n",
       "  country_code_source country_code_target     street_source     street_target  \\\n",
       "1                  FR                  FR  9 rue de la gare  9 rue de la gare   \n",
       "3                  DE                  DE   3 taunusstraaye       3 taunusstr   \n",
       "2                  DE                  DE   10 kapstadtring   10 kapstadtring   \n",
       "4                  US                  US   greenwood ave n   greenwood ave n   \n",
       "0                  DE                  DE  4 rottweiler str  4 rottweiler str   \n",
       "\n",
       "  duns_source duns_target  name_fuzzyscore  street_fuzzyscore  avg_fuzzyscore  \\\n",
       "1   380071407        None              1.0               1.00           1.000   \n",
       "3        None        None              1.0               0.85           0.925   \n",
       "2        None        None              1.0               1.00           1.000   \n",
       "4   099615556        None              1.0               1.00           1.000   \n",
       "0        None        None              1.0               1.00           1.000   \n",
       "\n",
       "  duns_exactscore  n_exactmatches  \n",
       "1            None               0  \n",
       "3            None               0  \n",
       "2            None               0  \n",
       "4            None               0  \n",
       "0            None               0  "
      ]
     },
     "execution_count": 40,
     "metadata": {},
     "output_type": "execute_result"
    }
   ],
   "source": [
    "res=sur.start_linkage()\n",
    "df=sur.format_results(res,display=['name','street','duns','country_code'],fuzzyscorecols=['name','street'],exactscorecols=['duns'])\n",
    "df.sample(5)"
   ]
  },
  {
   "cell_type": "markdown",
   "metadata": {},
   "source": [
    "### Possibility 2: return a probability vector to build a supervised learning table"
   ]
  },
  {
   "cell_type": "code",
   "execution_count": 41,
   "metadata": {
    "collapsed": false
   },
   "outputs": [
    {
     "name": "stdout",
     "output_type": "stream",
     "text": [
      "starting deduplication at 2018-02-06 09:41:15.472593\n",
      "1 of 10 inputs records deduplicated | found 1 of 5 max possible matches | time elapsed 0.301977 s\n",
      "2 of 10 inputs records deduplicated | found 1 of 5 max possible matches | time elapsed 0.501333 s\n",
      "3 of 10 inputs records deduplicated | found 2 of 5 max possible matches | time elapsed 0.729465 s\n",
      "4 of 10 inputs records deduplicated | found 1 of 5 max possible matches | time elapsed 0.944464 s\n",
      "5 of 10 inputs records deduplicated | found 1 of 5 max possible matches | time elapsed 1.160897 s\n",
      "6 of 10 inputs records deduplicated | found 1 of 5 max possible matches | time elapsed 1.376027 s\n",
      "7 of 10 inputs records deduplicated | found 1 of 5 max possible matches | time elapsed 1.662456 s\n",
      "8 of 10 inputs records deduplicated | found 1 of 5 max possible matches | time elapsed 1.987794 s\n",
      "9 of 10 inputs records deduplicated | found 1 of 5 max possible matches | time elapsed 2.213327 s\n",
      "10 of 10 inputs records deduplicated | found 1 of 5 max possible matches | time elapsed 2.463916 s\n",
      "finished work at 2018-02-06 09:41:17.937386\n"
     ]
    },
    {
     "data": {
      "text/html": [
       "<div>\n",
       "<style scoped>\n",
       "    .dataframe tbody tr th:only-of-type {\n",
       "        vertical-align: middle;\n",
       "    }\n",
       "\n",
       "    .dataframe tbody tr th {\n",
       "        vertical-align: top;\n",
       "    }\n",
       "\n",
       "    .dataframe thead th {\n",
       "        text-align: right;\n",
       "    }\n",
       "</style>\n",
       "<table border=\"1\" class=\"dataframe\">\n",
       "  <thead>\n",
       "    <tr style=\"text-align: right;\">\n",
       "      <th></th>\n",
       "      <th>ix_source</th>\n",
       "      <th>ix_target</th>\n",
       "      <th>y_proba</th>\n",
       "      <th>name_source</th>\n",
       "      <th>name_target</th>\n",
       "      <th>country_code_source</th>\n",
       "      <th>country_code_target</th>\n",
       "      <th>street_source</th>\n",
       "      <th>street_target</th>\n",
       "      <th>duns_source</th>\n",
       "      <th>duns_target</th>\n",
       "      <th>name_fuzzyscore</th>\n",
       "      <th>street_fuzzyscore</th>\n",
       "      <th>avg_fuzzyscore</th>\n",
       "      <th>duns_exactscore</th>\n",
       "      <th>n_exactmatches</th>\n",
       "    </tr>\n",
       "  </thead>\n",
       "  <tbody>\n",
       "    <tr>\n",
       "      <th>10</th>\n",
       "      <td>31ea5edd-2c80-40ca-85ca-b6768a941d1e</td>\n",
       "      <td>7ff2b1d2-bf47-4b26-849a-0d150fca7b66</td>\n",
       "      <td>1.000</td>\n",
       "      <td>h media</td>\n",
       "      <td>h media</td>\n",
       "      <td>BE</td>\n",
       "      <td>BE</td>\n",
       "      <td>329 heistraat</td>\n",
       "      <td>329 heistraat</td>\n",
       "      <td>372377817</td>\n",
       "      <td>None</td>\n",
       "      <td>1.00</td>\n",
       "      <td>1.0</td>\n",
       "      <td>1.000</td>\n",
       "      <td>NaN</td>\n",
       "      <td>0.0</td>\n",
       "    </tr>\n",
       "    <tr>\n",
       "      <th>0</th>\n",
       "      <td>c204c7b7-66fd-4e55-99a4-abf647dd6b3c</td>\n",
       "      <td>7a17d0c9-5992-43db-9580-c1c6cf16cdbc</td>\n",
       "      <td>0.187</td>\n",
       "      <td>l amphitryon restaurant</td>\n",
       "      <td>alter ego 31</td>\n",
       "      <td>FR</td>\n",
       "      <td>FR</td>\n",
       "      <td>chemin de gramont</td>\n",
       "      <td>chemin de gramont</td>\n",
       "      <td>779097252</td>\n",
       "      <td>779097252</td>\n",
       "      <td>0.29</td>\n",
       "      <td>1.0</td>\n",
       "      <td>0.645</td>\n",
       "      <td>1.0</td>\n",
       "      <td>1.0</td>\n",
       "    </tr>\n",
       "    <tr>\n",
       "      <th>5</th>\n",
       "      <td>ff973ba5-ab42-42e0-8244-6aa82de46691</td>\n",
       "      <td>c3200b89-b646-4b61-affb-76023e5915ef</td>\n",
       "      <td>1.000</td>\n",
       "      <td>acm</td>\n",
       "      <td>acm</td>\n",
       "      <td>FR</td>\n",
       "      <td>FR</td>\n",
       "      <td>9 rue de la gare</td>\n",
       "      <td>9 rue de la gare</td>\n",
       "      <td>380071407</td>\n",
       "      <td>None</td>\n",
       "      <td>1.00</td>\n",
       "      <td>1.0</td>\n",
       "      <td>1.000</td>\n",
       "      <td>NaN</td>\n",
       "      <td>0.0</td>\n",
       "    </tr>\n",
       "  </tbody>\n",
       "</table>\n",
       "</div>"
      ],
      "text/plain": [
       "                               ix_source  \\\n",
       "10  31ea5edd-2c80-40ca-85ca-b6768a941d1e   \n",
       "0   c204c7b7-66fd-4e55-99a4-abf647dd6b3c   \n",
       "5   ff973ba5-ab42-42e0-8244-6aa82de46691   \n",
       "\n",
       "                               ix_target  y_proba              name_source  \\\n",
       "10  7ff2b1d2-bf47-4b26-849a-0d150fca7b66    1.000                  h media   \n",
       "0   7a17d0c9-5992-43db-9580-c1c6cf16cdbc    0.187  l amphitryon restaurant   \n",
       "5   c3200b89-b646-4b61-affb-76023e5915ef    1.000                      acm   \n",
       "\n",
       "     name_target country_code_source country_code_target      street_source  \\\n",
       "10       h media                  BE                  BE      329 heistraat   \n",
       "0   alter ego 31                  FR                  FR  chemin de gramont   \n",
       "5            acm                  FR                  FR   9 rue de la gare   \n",
       "\n",
       "        street_target duns_source duns_target  name_fuzzyscore  \\\n",
       "10      329 heistraat   372377817        None             1.00   \n",
       "0   chemin de gramont   779097252   779097252             0.29   \n",
       "5    9 rue de la gare   380071407        None             1.00   \n",
       "\n",
       "    street_fuzzyscore  avg_fuzzyscore  duns_exactscore  n_exactmatches  \n",
       "10                1.0           1.000              NaN             0.0  \n",
       "0                 1.0           0.645              1.0             1.0  \n",
       "5                 1.0           1.000              NaN             0.0  "
      ]
     },
     "execution_count": 41,
     "metadata": {},
     "output_type": "execute_result"
    }
   ],
   "source": [
    "# return the 5 most probable matches of the query and the associated probabilities\n",
    "res=sur.start_linkage(n_matches_max=5,with_proba=True)\n",
    "df=sur.format_results(res,with_proba=True,display=['name','street','duns','country_code'],fuzzyscorecols=['name','street'],exactscorecols=['duns'])\n",
    "df.sample(3)"
   ]
  },
  {
   "cell_type": "code",
   "execution_count": 42,
   "metadata": {
    "collapsed": true
   },
   "outputs": [],
   "source": [
    "df.to_excel('supervised2.xlsx')"
   ]
  },
  {
   "cell_type": "markdown",
   "metadata": {},
   "source": [
    "# Rule-based deduplication"
   ]
  },
  {
   "cell_type": "markdown",
   "metadata": {},
   "source": [
    "it works the same as above, but instead of having to train a model, you hard-code some rules"
   ]
  },
  {
   "cell_type": "code",
   "execution_count": 43,
   "metadata": {
    "collapsed": true
   },
   "outputs": [],
   "source": [
    "hard_threshold = {'name_tokenscore': 0.7,\n",
    "                  'street_tokenscore': 0.7}\n",
    "hard_cols = list(hard_threshold.keys())\n",
    "\n",
    "def hardcodedfunc(r):\n",
    "    r = r.fillna(0)\n",
    "    for k in hard_cols:\n",
    "        if r[k] > hard_threshold[k]:\n",
    "            return 1\n",
    "    else:\n",
    "        return 1\n",
    "\n",
    "rule_based_model = dep.FuncEvaluationModel(used_cols=hard_cols,\n",
    "                        eval_func=hardcodedfunc)\n",
    "sur=dep.Suricate(input_records=df_input_records,\n",
    "                target_records=df_target_records,\n",
    "                 filterdict=filterdict,\n",
    "                 intermediate_thresholds=intermediate_thresholds,\n",
    "                model=rule_based_model)"
   ]
  }
 ],
 "metadata": {
  "kernelspec": {
   "display_name": "Python [default]",
   "language": "python",
   "name": "python3"
  },
  "language_info": {
   "codemirror_mode": {
    "name": "ipython",
    "version": 3
   },
   "file_extension": ".py",
   "mimetype": "text/x-python",
   "name": "python",
   "nbconvert_exporter": "python",
   "pygments_lexer": "ipython3",
   "version": "3.6.1"
  }
 },
 "nbformat": 4,
 "nbformat_minor": 2
}
