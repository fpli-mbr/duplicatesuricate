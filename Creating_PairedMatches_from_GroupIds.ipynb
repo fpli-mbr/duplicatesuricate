{
 "cells": [
  {
   "cell_type": "code",
   "execution_count": 6,
   "metadata": {
    "collapsed": true
   },
   "outputs": [],
   "source": [
    "import pandas as pd\n",
    "%matplotlib inline\n",
    "import duplicatesuricate.deduplication as dep\n",
    "from duplicatesuricate.preprocessing import clean_db"
   ]
  },
  {
   "cell_type": "code",
   "execution_count": 3,
   "metadata": {
    "collapsed": false
   },
   "outputs": [
    {
     "name": "stdout",
     "output_type": "stream",
     "text": [
      "nrows: 5000\n",
      "gid                     int64\n",
      "name                   object\n",
      "duns                   object\n",
      "city                   object\n",
      "postalcode             object\n",
      "state                  object\n",
      "street                 object\n",
      "country_code           object\n",
      "name_wostopwords       object\n",
      "street_wostopwords     object\n",
      "name_acronym           object\n",
      "postalcode_1stdigit    object\n",
      "postalcode_2digits     object\n",
      "name_len                int64\n",
      "hasairbusname           int64\n",
      "isbigcity               int64\n",
      "dtype: object\n"
     ]
    },
    {
     "data": {
      "text/html": [
       "<div>\n",
       "<style scoped>\n",
       "    .dataframe tbody tr th:only-of-type {\n",
       "        vertical-align: middle;\n",
       "    }\n",
       "\n",
       "    .dataframe tbody tr th {\n",
       "        vertical-align: top;\n",
       "    }\n",
       "\n",
       "    .dataframe thead th {\n",
       "        text-align: right;\n",
       "    }\n",
       "</style>\n",
       "<table border=\"1\" class=\"dataframe\">\n",
       "  <thead>\n",
       "    <tr style=\"text-align: right;\">\n",
       "      <th></th>\n",
       "      <th>gid</th>\n",
       "      <th>name</th>\n",
       "      <th>duns</th>\n",
       "      <th>city</th>\n",
       "      <th>postalcode</th>\n",
       "      <th>state</th>\n",
       "      <th>street</th>\n",
       "      <th>country_code</th>\n",
       "      <th>name_wostopwords</th>\n",
       "      <th>street_wostopwords</th>\n",
       "      <th>name_acronym</th>\n",
       "      <th>postalcode_1stdigit</th>\n",
       "      <th>postalcode_2digits</th>\n",
       "      <th>name_len</th>\n",
       "      <th>hasairbusname</th>\n",
       "      <th>isbigcity</th>\n",
       "    </tr>\n",
       "    <tr>\n",
       "      <th>gid</th>\n",
       "      <th></th>\n",
       "      <th></th>\n",
       "      <th></th>\n",
       "      <th></th>\n",
       "      <th></th>\n",
       "      <th></th>\n",
       "      <th></th>\n",
       "      <th></th>\n",
       "      <th></th>\n",
       "      <th></th>\n",
       "      <th></th>\n",
       "      <th></th>\n",
       "      <th></th>\n",
       "      <th></th>\n",
       "      <th></th>\n",
       "      <th></th>\n",
       "    </tr>\n",
       "  </thead>\n",
       "  <tbody>\n",
       "    <tr>\n",
       "      <th>b2e57bed-f2f8-4023-808e-cd47584685f9</th>\n",
       "      <td>2313</td>\n",
       "      <td>rs components g10192580</td>\n",
       "      <td>None</td>\n",
       "      <td>morfelden walldorf</td>\n",
       "      <td>64546</td>\n",
       "      <td>hesse</td>\n",
       "      <td>13b hessenring</td>\n",
       "      <td>DE</td>\n",
       "      <td>rs components g10192580</td>\n",
       "      <td>hessenring 13b</td>\n",
       "      <td>rcg</td>\n",
       "      <td>6</td>\n",
       "      <td>64</td>\n",
       "      <td>23</td>\n",
       "      <td>0</td>\n",
       "      <td>0</td>\n",
       "    </tr>\n",
       "    <tr>\n",
       "      <th>beebfd94-5922-4751-80b1-eab2fcb36560</th>\n",
       "      <td>809</td>\n",
       "      <td>regierung von oberbayern</td>\n",
       "      <td>None</td>\n",
       "      <td>munich</td>\n",
       "      <td>80000</td>\n",
       "      <td>bavaria</td>\n",
       "      <td>130 hestr</td>\n",
       "      <td>DE</td>\n",
       "      <td>regierung von oberbayern</td>\n",
       "      <td>he 130</td>\n",
       "      <td>rvo</td>\n",
       "      <td>8</td>\n",
       "      <td>80</td>\n",
       "      <td>24</td>\n",
       "      <td>0</td>\n",
       "      <td>1</td>\n",
       "    </tr>\n",
       "    <tr>\n",
       "      <th>2c84601c-5418-478d-ae47-6dbc1fa06806</th>\n",
       "      <td>1862</td>\n",
       "      <td>heatherside engineering limited</td>\n",
       "      <td>73415878</td>\n",
       "      <td>arlesey</td>\n",
       "      <td>sg15 6xd</td>\n",
       "      <td>england</td>\n",
       "      <td>old oak close</td>\n",
       "      <td>GB</td>\n",
       "      <td>heatherside</td>\n",
       "      <td>oak close old</td>\n",
       "      <td>hel</td>\n",
       "      <td>s</td>\n",
       "      <td>sg</td>\n",
       "      <td>31</td>\n",
       "      <td>0</td>\n",
       "      <td>0</td>\n",
       "    </tr>\n",
       "  </tbody>\n",
       "</table>\n",
       "</div>"
      ],
      "text/plain": [
       "                                       gid                             name  \\\n",
       "gid                                                                           \n",
       "b2e57bed-f2f8-4023-808e-cd47584685f9  2313          rs components g10192580   \n",
       "beebfd94-5922-4751-80b1-eab2fcb36560   809         regierung von oberbayern   \n",
       "2c84601c-5418-478d-ae47-6dbc1fa06806  1862  heatherside engineering limited   \n",
       "\n",
       "                                          duns                city postalcode  \\\n",
       "gid                                                                             \n",
       "b2e57bed-f2f8-4023-808e-cd47584685f9      None  morfelden walldorf      64546   \n",
       "beebfd94-5922-4751-80b1-eab2fcb36560      None              munich      80000   \n",
       "2c84601c-5418-478d-ae47-6dbc1fa06806  73415878             arlesey   sg15 6xd   \n",
       "\n",
       "                                        state          street country_code  \\\n",
       "gid                                                                          \n",
       "b2e57bed-f2f8-4023-808e-cd47584685f9    hesse  13b hessenring           DE   \n",
       "beebfd94-5922-4751-80b1-eab2fcb36560  bavaria       130 hestr           DE   \n",
       "2c84601c-5418-478d-ae47-6dbc1fa06806  england   old oak close           GB   \n",
       "\n",
       "                                              name_wostopwords  \\\n",
       "gid                                                              \n",
       "b2e57bed-f2f8-4023-808e-cd47584685f9   rs components g10192580   \n",
       "beebfd94-5922-4751-80b1-eab2fcb36560  regierung von oberbayern   \n",
       "2c84601c-5418-478d-ae47-6dbc1fa06806               heatherside   \n",
       "\n",
       "                                     street_wostopwords name_acronym  \\\n",
       "gid                                                                    \n",
       "b2e57bed-f2f8-4023-808e-cd47584685f9     hessenring 13b          rcg   \n",
       "beebfd94-5922-4751-80b1-eab2fcb36560             he 130          rvo   \n",
       "2c84601c-5418-478d-ae47-6dbc1fa06806      oak close old          hel   \n",
       "\n",
       "                                     postalcode_1stdigit postalcode_2digits  \\\n",
       "gid                                                                           \n",
       "b2e57bed-f2f8-4023-808e-cd47584685f9                   6                 64   \n",
       "beebfd94-5922-4751-80b1-eab2fcb36560                   8                 80   \n",
       "2c84601c-5418-478d-ae47-6dbc1fa06806                   s                 sg   \n",
       "\n",
       "                                      name_len  hasairbusname  isbigcity  \n",
       "gid                                                                       \n",
       "b2e57bed-f2f8-4023-808e-cd47584685f9        23              0          0  \n",
       "beebfd94-5922-4751-80b1-eab2fcb36560        24              0          1  \n",
       "2c84601c-5418-478d-ae47-6dbc1fa06806        31              0          0  "
      ]
     },
     "execution_count": 3,
     "metadata": {},
     "output_type": "execute_result"
    }
   ],
   "source": [
    "df=pd.read_csv('gid_withpossiblematches_2POR.csv',dtype={'duns':str,'postalcode':str},sep=',',index_col=0,encoding='utf-8',nrows=5000)\n",
    "df.drop(['latlng'],axis=1,inplace=True)\n",
    "df.rename(columns={'possiblematches':'gid'},inplace=True)\n",
    "for x in [df]:\n",
    "    x = clean_db(x)\n",
    "df.sample(3)\n",
    "\n",
    "print('nrows: {}'.format(df.shape[0]))\n",
    "print(df.dtypes)\n",
    "\n",
    "df.sample(3)"
   ]
  },
  {
   "cell_type": "markdown",
   "metadata": {},
   "source": [
    "## with help of a classifier"
   ]
  },
  {
   "cell_type": "markdown",
   "metadata": {},
   "source": [
    "The classifier will identify possible matches, ranked by their probabilities, and thus we might be able to train it on the decision frontier"
   ]
  },
  {
   "cell_type": "code",
   "execution_count": 4,
   "metadata": {
    "collapsed": false
   },
   "outputs": [
    {
     "name": "stdout",
     "output_type": "stream",
     "text": [
      "shape of training table  (3770, 9)\n",
      "number of positives in table 1389\n",
      "precision score on training data: 0.977385159011\n",
      "recall score on training data: 0.995680345572\n",
      "time elapsed 6.64543 seconds\n"
     ]
    }
   ],
   "source": [
    "scoredict={'fuzzy':['city','name','street'],\n",
    "          'exact':['duns','postalcode','country_code','postalcode_2digits'],\n",
    "          'token':['name_wostopwords','street_wostopwords']}\n",
    "traincols=dep._transform_scoredict_scorecols(scoredict)[1]\n",
    "training_table=pd.read_csv('trainining_table3.csv',sep=',',index_col=[0,1],usecols=['ix_source','ix_target']+traincols+['y_true'])\n",
    "classifier = dep.ScikitLearnClassifier()\n",
    "X_train = training_table.iloc[:,:-1].astype(float)\n",
    "y_train= training_table.iloc[:,-1].astype(int)\n",
    "classifier.fit(X=X_train,y=y_train)\n",
    "filterdict={'all':['country_code'],\n",
    "           'any':['duns']}\n",
    "intermediate_thresholds={'name_wostopwords_fuzzyscore':0.5,'street_wostopwords_fuzzyscore':0.5, 'duns_exactscore':1.0,'aggfunc':'any'}\n",
    "sur=dep.Suricate(input_records=df,target_records=df,\n",
    "                 filterdict=filterdict,\n",
    "                 intermediate_thresholds=intermediate_thresholds,\n",
    "                 classifier=classifier)"
   ]
  },
  {
   "cell_type": "markdown",
   "metadata": {},
   "source": [
    "#### Launch the deduplication to obtain most probable matches\n",
    "We want to capture bad matches as well as good matches to train the model, so we get the probability vector"
   ]
  },
  {
   "cell_type": "code",
   "execution_count": 5,
   "metadata": {
    "collapsed": false
   },
   "outputs": [
    {
     "name": "stdout",
     "output_type": "stream",
     "text": [
      "starting deduplication at 2018-02-13 16:43:05.178112\n",
      "1 of 50 inputs records deduplicated | found 5 of 5 max possible matches | time elapsed 0.568201 s\n",
      "2 of 50 inputs records deduplicated | found 2 of 5 max possible matches | time elapsed 0.507747 s\n",
      "3 of 50 inputs records deduplicated | found 2 of 5 max possible matches | time elapsed 0.505667 s\n",
      "4 of 50 inputs records deduplicated | found 1 of 5 max possible matches | time elapsed 1.230556 s\n",
      "5 of 50 inputs records deduplicated | found 4 of 5 max possible matches | time elapsed 0.494578 s\n",
      "6 of 50 inputs records deduplicated | found 4 of 5 max possible matches | time elapsed 0.526477 s\n",
      "7 of 50 inputs records deduplicated | found 4 of 5 max possible matches | time elapsed 0.599716 s\n",
      "8 of 50 inputs records deduplicated | found 4 of 5 max possible matches | time elapsed 0.679556 s\n",
      "9 of 50 inputs records deduplicated | found 2 of 5 max possible matches | time elapsed 0.496225 s\n",
      "10 of 50 inputs records deduplicated | found 2 of 5 max possible matches | time elapsed 0.518217 s\n",
      "11 of 50 inputs records deduplicated | found 2 of 5 max possible matches | time elapsed 1.273397 s\n",
      "12 of 50 inputs records deduplicated | found 2 of 5 max possible matches | time elapsed 1.392372 s\n",
      "13 of 50 inputs records deduplicated | found 5 of 5 max possible matches | time elapsed 1.4213 s\n",
      "14 of 50 inputs records deduplicated | found 5 of 5 max possible matches | time elapsed 1.300666 s\n",
      "15 of 50 inputs records deduplicated | found 5 of 5 max possible matches | time elapsed 1.337692 s\n",
      "16 of 50 inputs records deduplicated | found 5 of 5 max possible matches | time elapsed 1.394438 s\n",
      "17 of 50 inputs records deduplicated | found 5 of 5 max possible matches | time elapsed 1.650856 s\n",
      "18 of 50 inputs records deduplicated | found 5 of 5 max possible matches | time elapsed 1.360367 s\n",
      "19 of 50 inputs records deduplicated | found 2 of 5 max possible matches | time elapsed 0.486307 s\n",
      "20 of 50 inputs records deduplicated | found 3 of 5 max possible matches | time elapsed 0.490967 s\n",
      "21 of 50 inputs records deduplicated | found 2 of 5 max possible matches | time elapsed 0.486761 s\n",
      "22 of 50 inputs records deduplicated | found 1 of 5 max possible matches | time elapsed 1.390484 s\n",
      "23 of 50 inputs records deduplicated | found 2 of 5 max possible matches | time elapsed 1.29242 s\n",
      "24 of 50 inputs records deduplicated | found 2 of 5 max possible matches | time elapsed 1.349673 s\n",
      "25 of 50 inputs records deduplicated | found 5 of 5 max possible matches | time elapsed 1.399365 s\n",
      "26 of 50 inputs records deduplicated | found 3 of 5 max possible matches | time elapsed 1.777255 s\n",
      "27 of 50 inputs records deduplicated | found 5 of 5 max possible matches | time elapsed 1.469932 s\n",
      "28 of 50 inputs records deduplicated | found 4 of 5 max possible matches | time elapsed 0.520434 s\n",
      "29 of 50 inputs records deduplicated | found 4 of 5 max possible matches | time elapsed 0.520996 s\n",
      "30 of 50 inputs records deduplicated | found 1 of 5 max possible matches | time elapsed 0.419266 s\n",
      "31 of 50 inputs records deduplicated | found 2 of 5 max possible matches | time elapsed 1.65781 s\n",
      "32 of 50 inputs records deduplicated | found 2 of 5 max possible matches | time elapsed 1.526735 s\n",
      "33 of 50 inputs records deduplicated | found 5 of 5 max possible matches | time elapsed 2.124831 s\n",
      "34 of 50 inputs records deduplicated | found 2 of 5 max possible matches | time elapsed 1.390508 s\n",
      "35 of 50 inputs records deduplicated | found 5 of 5 max possible matches | time elapsed 1.986597 s\n",
      "36 of 50 inputs records deduplicated | found 5 of 5 max possible matches | time elapsed 1.739815 s\n",
      "37 of 50 inputs records deduplicated | found 5 of 5 max possible matches | time elapsed 0.679459 s\n",
      "38 of 50 inputs records deduplicated | found 5 of 5 max possible matches | time elapsed 0.609545 s\n",
      "39 of 50 inputs records deduplicated | found 5 of 5 max possible matches | time elapsed 0.599814 s\n",
      "40 of 50 inputs records deduplicated | found 5 of 5 max possible matches | time elapsed 0.543673 s\n",
      "41 of 50 inputs records deduplicated | found 5 of 5 max possible matches | time elapsed 0.55245 s\n",
      "42 of 50 inputs records deduplicated | found 5 of 5 max possible matches | time elapsed 0.861719 s\n",
      "43 of 50 inputs records deduplicated | found 1 of 5 max possible matches | time elapsed 0.686629 s\n",
      "44 of 50 inputs records deduplicated | found 5 of 5 max possible matches | time elapsed 1.433683 s\n",
      "45 of 50 inputs records deduplicated | found 3 of 5 max possible matches | time elapsed 1.576923 s\n",
      "46 of 50 inputs records deduplicated | found 3 of 5 max possible matches | time elapsed 1.307142 s\n",
      "47 of 50 inputs records deduplicated | found 2 of 5 max possible matches | time elapsed 0.408371 s\n",
      "48 of 50 inputs records deduplicated | found 2 of 5 max possible matches | time elapsed 0.43817 s\n",
      "49 of 50 inputs records deduplicated | found 5 of 5 max possible matches | time elapsed 1.304764 s\n",
      "50 of 50 inputs records deduplicated | found 5 of 5 max possible matches | time elapsed 1.292 s\n",
      "finished work at 2018-02-13 16:43:56.771089\n"
     ]
    }
   ],
   "source": [
    "res=sur.start_linkage(sample_size=50,n_matches_max=5,with_proba=True)\n",
    "res=res.loc[res['ix_source']!=res['ix_target']]res.head()"
   ]
  },
  {
   "cell_type": "markdown",
   "metadata": {},
   "source": [
    "#### reformat the results table to:\n",
    "- remove matches on the same record (ix_source = A , ix_target=A)\n",
    "- remove duplicates of the same pair ((ix_source =A,ix_target=B) & (ix_source=B,ix_target=A))"
   ]
  },
  {
   "cell_type": "code",
   "execution_count": 9,
   "metadata": {
    "collapsed": false
   },
   "outputs": [
    {
     "name": "stdout",
     "output_type": "stream",
     "text": [
      "125\n",
      "125\n",
      "82\n"
     ]
    }
   ],
   "source": [
    "print(res.shape[0])\n",
    "\n",
    "# remove matches on the same record\n",
    "res=res.loc[res['ix_source']!=res['ix_target']]\n",
    "print(res.shape[0])\n",
    "\n",
    "# remove duplicate matches on the pair record\n",
    "res['pairs']=res.apply(lambda r:' '.join(r[['ix_source','ix_target']].sort_values(ascending=True).tolist()),axis=1)\n",
    "res.drop_duplicates(subset=['pairs'],inplace=True)\n",
    "res.drop('pairs',axis=1,inplace=True)\n",
    "print(res.shape[0])"
   ]
  },
  {
   "cell_type": "markdown",
   "metadata": {},
   "source": [
    "#### Calculate y_true\n",
    "If the two matches share the same group id , it is a good match, otherwise not"
   ]
  },
  {
   "cell_type": "code",
   "execution_count": 11,
   "metadata": {
    "collapsed": false
   },
   "outputs": [],
   "source": [
    "res['gid_source']=df.loc[res['ix_source'].values,'gid'].values\n",
    "res['gid_target']=df.loc[res['ix_target'].values,'gid'].values\n",
    "res['y_true']=(res['gid_source']==res['gid_target']).astype(int)"
   ]
  },
  {
   "cell_type": "markdown",
   "metadata": {},
   "source": [
    "#### Highlight disagreements between manual classification and the classifier"
   ]
  },
  {
   "cell_type": "code",
   "execution_count": 26,
   "metadata": {
    "collapsed": true
   },
   "outputs": [],
   "source": [
    "res['y_pred']=(res['y_proba']>0.5).astype(int)\n",
    "res['iscorrect']=(res['y_true']==res['y_pred'])"
   ]
  },
  {
   "cell_type": "markdown",
   "metadata": {},
   "source": [
    "What do the results look like"
   ]
  },
  {
   "cell_type": "code",
   "execution_count": 31,
   "metadata": {
    "collapsed": false
   },
   "outputs": [
    {
     "name": "stdout",
     "output_type": "stream",
     "text": [
      "1    57\n",
      "0    25\n",
      "Name: y_true, dtype: int64\n"
     ]
    },
    {
     "data": {
      "image/png": "[encoded data removed]",
      "text/plain": [
       "<matplotlib.figure.Figure at 0x11b756b70>"
      ]
     },
     "metadata": {},
     "output_type": "display_data"
    }
   ],
   "source": [
    "print(res['y_true'].value_counts())\n",
    "res['y_proba'].hist();"
   ]
  },
  {
   "cell_type": "markdown",
   "metadata": {},
   "source": [
    "#### Format the results"
   ]
  },
  {
   "cell_type": "code",
   "execution_count": 14,
   "metadata": {
    "collapsed": false
   },
   "outputs": [],
   "source": [
    "comparison=sur.build_visualcomparison_table(inputs=res['ix_source'].values,\n",
    "                                 targets=res['ix_target'].values,\n",
    "                                 display=['name','street','city','postalcode','duns','country_code'],\n",
    "                                 exact=['duns'],\n",
    "                                 y_proba=res['y_proba'].values,\n",
    "                                 y_true=res['y_true'].values)\n",
    "comparison.sort_values(by='y_proba',ascending=True,inplace=True)"
   ]
  },
  {
   "cell_type": "code",
   "execution_count": 32,
   "metadata": {
    "collapsed": false
   },
   "outputs": [],
   "source": [
    "res2=res.set_index(['ix_source','ix_target'],drop=True)[['y_pred','iscorrect']]\n",
    "comparison=comparison.join(res2,how='left')"
   ]
  },
  {
   "cell_type": "markdown",
   "metadata": {},
   "source": [
    "### Output\n",
    "the data is fit for manual checking and training the classifier!"
   ]
  },
  {
   "cell_type": "code",
   "execution_count": 33,
   "metadata": {
    "collapsed": false
   },
   "outputs": [
    {
     "data": {
      "text/html": [
       "<div>\n",
       "<style scoped>\n",
       "    .dataframe tbody tr th:only-of-type {\n",
       "        vertical-align: middle;\n",
       "    }\n",
       "\n",
       "    .dataframe tbody tr th {\n",
       "        vertical-align: top;\n",
       "    }\n",
       "\n",
       "    .dataframe thead th {\n",
       "        text-align: right;\n",
       "    }\n",
       "</style>\n",
       "<table border=\"1\" class=\"dataframe\">\n",
       "  <thead>\n",
       "    <tr style=\"text-align: right;\">\n",
       "      <th></th>\n",
       "      <th></th>\n",
       "      <th>name_source</th>\n",
       "      <th>name_target</th>\n",
       "      <th>country_code_source</th>\n",
       "      <th>country_code_target</th>\n",
       "      <th>street_source</th>\n",
       "      <th>street_target</th>\n",
       "      <th>duns_source</th>\n",
       "      <th>duns_target</th>\n",
       "      <th>duns_exactscore</th>\n",
       "      <th>postalcode_source</th>\n",
       "      <th>postalcode_target</th>\n",
       "      <th>city_source</th>\n",
       "      <th>city_target</th>\n",
       "      <th>y_proba</th>\n",
       "      <th>y_true</th>\n",
       "      <th>y_pred</th>\n",
       "      <th>iscorrect</th>\n",
       "    </tr>\n",
       "    <tr>\n",
       "      <th>ix_source</th>\n",
       "      <th>ix_target</th>\n",
       "      <th></th>\n",
       "      <th></th>\n",
       "      <th></th>\n",
       "      <th></th>\n",
       "      <th></th>\n",
       "      <th></th>\n",
       "      <th></th>\n",
       "      <th></th>\n",
       "      <th></th>\n",
       "      <th></th>\n",
       "      <th></th>\n",
       "      <th></th>\n",
       "      <th></th>\n",
       "      <th></th>\n",
       "      <th></th>\n",
       "      <th></th>\n",
       "      <th></th>\n",
       "    </tr>\n",
       "  </thead>\n",
       "  <tbody>\n",
       "    <tr>\n",
       "      <th>d4468f99-877a-4772-8826-bb1d24f88ec7</th>\n",
       "      <th>134e55ca-a655-4d9d-b997-77bffdca9bd9</th>\n",
       "      <td>le manoir de gressy</td>\n",
       "      <td>manoir de gressy</td>\n",
       "      <td>FR</td>\n",
       "      <td>FR</td>\n",
       "      <td>chemin des carrosses</td>\n",
       "      <td>chemin des carrosses</td>\n",
       "      <td>None</td>\n",
       "      <td>None</td>\n",
       "      <td>0.0</td>\n",
       "      <td>77410</td>\n",
       "      <td>77410</td>\n",
       "      <td>gressy</td>\n",
       "      <td>gressy</td>\n",
       "      <td>0.985560</td>\n",
       "      <td>1</td>\n",
       "      <td>1</td>\n",
       "      <td>True</td>\n",
       "    </tr>\n",
       "    <tr>\n",
       "      <th>b8e81c89-45bf-477e-ac25-3c20ae97be3c</th>\n",
       "      <th>7c7ed72b-6006-4c04-85f4-ed47466e9deb</th>\n",
       "      <td>le manoir de gressy</td>\n",
       "      <td>le manoir de gressy</td>\n",
       "      <td>FR</td>\n",
       "      <td>FR</td>\n",
       "      <td>2 rue saint denis</td>\n",
       "      <td>2 rue saint denis</td>\n",
       "      <td>None</td>\n",
       "      <td>None</td>\n",
       "      <td>0.0</td>\n",
       "      <td>77410</td>\n",
       "      <td>77410</td>\n",
       "      <td>gressy</td>\n",
       "      <td>gressy</td>\n",
       "      <td>0.984145</td>\n",
       "      <td>1</td>\n",
       "      <td>1</td>\n",
       "      <td>True</td>\n",
       "    </tr>\n",
       "    <tr>\n",
       "      <th>a9246643-2d3e-4bfa-8d8d-42da289f2e00</th>\n",
       "      <th>fb84d8cd-faf3-463b-8754-a18eb73e5d20</th>\n",
       "      <td>muenchner knoedelei</td>\n",
       "      <td>gebrueder schneider gmbh</td>\n",
       "      <td>DE</td>\n",
       "      <td>DE</td>\n",
       "      <td>51 lilienstr</td>\n",
       "      <td>51 lindenstr</td>\n",
       "      <td>342593012</td>\n",
       "      <td>316937473</td>\n",
       "      <td>-1.0</td>\n",
       "      <td>81669</td>\n",
       "      <td>57627</td>\n",
       "      <td>munich</td>\n",
       "      <td>hachenburg</td>\n",
       "      <td>0.000000</td>\n",
       "      <td>0</td>\n",
       "      <td>0</td>\n",
       "      <td>True</td>\n",
       "    </tr>\n",
       "  </tbody>\n",
       "</table>\n",
       "</div>"
      ],
      "text/plain": [
       "                                                                                   name_source  \\\n",
       "ix_source                            ix_target                                                   \n",
       "d4468f99-877a-4772-8826-bb1d24f88ec7 134e55ca-a655-4d9d-b997-77bffdca9bd9  le manoir de gressy   \n",
       "b8e81c89-45bf-477e-ac25-3c20ae97be3c 7c7ed72b-6006-4c04-85f4-ed47466e9deb  le manoir de gressy   \n",
       "a9246643-2d3e-4bfa-8d8d-42da289f2e00 fb84d8cd-faf3-463b-8754-a18eb73e5d20  muenchner knoedelei   \n",
       "\n",
       "                                                                                        name_target  \\\n",
       "ix_source                            ix_target                                                        \n",
       "d4468f99-877a-4772-8826-bb1d24f88ec7 134e55ca-a655-4d9d-b997-77bffdca9bd9          manoir de gressy   \n",
       "b8e81c89-45bf-477e-ac25-3c20ae97be3c 7c7ed72b-6006-4c04-85f4-ed47466e9deb       le manoir de gressy   \n",
       "a9246643-2d3e-4bfa-8d8d-42da289f2e00 fb84d8cd-faf3-463b-8754-a18eb73e5d20  gebrueder schneider gmbh   \n",
       "\n",
       "                                                                          country_code_source  \\\n",
       "ix_source                            ix_target                                                  \n",
       "d4468f99-877a-4772-8826-bb1d24f88ec7 134e55ca-a655-4d9d-b997-77bffdca9bd9                  FR   \n",
       "b8e81c89-45bf-477e-ac25-3c20ae97be3c 7c7ed72b-6006-4c04-85f4-ed47466e9deb                  FR   \n",
       "a9246643-2d3e-4bfa-8d8d-42da289f2e00 fb84d8cd-faf3-463b-8754-a18eb73e5d20                  DE   \n",
       "\n",
       "                                                                          country_code_target  \\\n",
       "ix_source                            ix_target                                                  \n",
       "d4468f99-877a-4772-8826-bb1d24f88ec7 134e55ca-a655-4d9d-b997-77bffdca9bd9                  FR   \n",
       "b8e81c89-45bf-477e-ac25-3c20ae97be3c 7c7ed72b-6006-4c04-85f4-ed47466e9deb                  FR   \n",
       "a9246643-2d3e-4bfa-8d8d-42da289f2e00 fb84d8cd-faf3-463b-8754-a18eb73e5d20                  DE   \n",
       "\n",
       "                                                                                  street_source  \\\n",
       "ix_source                            ix_target                                                    \n",
       "d4468f99-877a-4772-8826-bb1d24f88ec7 134e55ca-a655-4d9d-b997-77bffdca9bd9  chemin des carrosses   \n",
       "b8e81c89-45bf-477e-ac25-3c20ae97be3c 7c7ed72b-6006-4c04-85f4-ed47466e9deb     2 rue saint denis   \n",
       "a9246643-2d3e-4bfa-8d8d-42da289f2e00 fb84d8cd-faf3-463b-8754-a18eb73e5d20          51 lilienstr   \n",
       "\n",
       "                                                                                  street_target  \\\n",
       "ix_source                            ix_target                                                    \n",
       "d4468f99-877a-4772-8826-bb1d24f88ec7 134e55ca-a655-4d9d-b997-77bffdca9bd9  chemin des carrosses   \n",
       "b8e81c89-45bf-477e-ac25-3c20ae97be3c 7c7ed72b-6006-4c04-85f4-ed47466e9deb     2 rue saint denis   \n",
       "a9246643-2d3e-4bfa-8d8d-42da289f2e00 fb84d8cd-faf3-463b-8754-a18eb73e5d20          51 lindenstr   \n",
       "\n",
       "                                                                          duns_source  \\\n",
       "ix_source                            ix_target                                          \n",
       "d4468f99-877a-4772-8826-bb1d24f88ec7 134e55ca-a655-4d9d-b997-77bffdca9bd9        None   \n",
       "b8e81c89-45bf-477e-ac25-3c20ae97be3c 7c7ed72b-6006-4c04-85f4-ed47466e9deb        None   \n",
       "a9246643-2d3e-4bfa-8d8d-42da289f2e00 fb84d8cd-faf3-463b-8754-a18eb73e5d20   342593012   \n",
       "\n",
       "                                                                          duns_target  \\\n",
       "ix_source                            ix_target                                          \n",
       "d4468f99-877a-4772-8826-bb1d24f88ec7 134e55ca-a655-4d9d-b997-77bffdca9bd9        None   \n",
       "b8e81c89-45bf-477e-ac25-3c20ae97be3c 7c7ed72b-6006-4c04-85f4-ed47466e9deb        None   \n",
       "a9246643-2d3e-4bfa-8d8d-42da289f2e00 fb84d8cd-faf3-463b-8754-a18eb73e5d20   316937473   \n",
       "\n",
       "                                                                           duns_exactscore  \\\n",
       "ix_source                            ix_target                                               \n",
       "d4468f99-877a-4772-8826-bb1d24f88ec7 134e55ca-a655-4d9d-b997-77bffdca9bd9              0.0   \n",
       "b8e81c89-45bf-477e-ac25-3c20ae97be3c 7c7ed72b-6006-4c04-85f4-ed47466e9deb              0.0   \n",
       "a9246643-2d3e-4bfa-8d8d-42da289f2e00 fb84d8cd-faf3-463b-8754-a18eb73e5d20             -1.0   \n",
       "\n",
       "                                                                          postalcode_source  \\\n",
       "ix_source                            ix_target                                                \n",
       "d4468f99-877a-4772-8826-bb1d24f88ec7 134e55ca-a655-4d9d-b997-77bffdca9bd9             77410   \n",
       "b8e81c89-45bf-477e-ac25-3c20ae97be3c 7c7ed72b-6006-4c04-85f4-ed47466e9deb             77410   \n",
       "a9246643-2d3e-4bfa-8d8d-42da289f2e00 fb84d8cd-faf3-463b-8754-a18eb73e5d20             81669   \n",
       "\n",
       "                                                                          postalcode_target  \\\n",
       "ix_source                            ix_target                                                \n",
       "d4468f99-877a-4772-8826-bb1d24f88ec7 134e55ca-a655-4d9d-b997-77bffdca9bd9             77410   \n",
       "b8e81c89-45bf-477e-ac25-3c20ae97be3c 7c7ed72b-6006-4c04-85f4-ed47466e9deb             77410   \n",
       "a9246643-2d3e-4bfa-8d8d-42da289f2e00 fb84d8cd-faf3-463b-8754-a18eb73e5d20             57627   \n",
       "\n",
       "                                                                          city_source  \\\n",
       "ix_source                            ix_target                                          \n",
       "d4468f99-877a-4772-8826-bb1d24f88ec7 134e55ca-a655-4d9d-b997-77bffdca9bd9      gressy   \n",
       "b8e81c89-45bf-477e-ac25-3c20ae97be3c 7c7ed72b-6006-4c04-85f4-ed47466e9deb      gressy   \n",
       "a9246643-2d3e-4bfa-8d8d-42da289f2e00 fb84d8cd-faf3-463b-8754-a18eb73e5d20      munich   \n",
       "\n",
       "                                                                          city_target  \\\n",
       "ix_source                            ix_target                                          \n",
       "d4468f99-877a-4772-8826-bb1d24f88ec7 134e55ca-a655-4d9d-b997-77bffdca9bd9      gressy   \n",
       "b8e81c89-45bf-477e-ac25-3c20ae97be3c 7c7ed72b-6006-4c04-85f4-ed47466e9deb      gressy   \n",
       "a9246643-2d3e-4bfa-8d8d-42da289f2e00 fb84d8cd-faf3-463b-8754-a18eb73e5d20  hachenburg   \n",
       "\n",
       "                                                                            y_proba  \\\n",
       "ix_source                            ix_target                                        \n",
       "d4468f99-877a-4772-8826-bb1d24f88ec7 134e55ca-a655-4d9d-b997-77bffdca9bd9  0.985560   \n",
       "b8e81c89-45bf-477e-ac25-3c20ae97be3c 7c7ed72b-6006-4c04-85f4-ed47466e9deb  0.984145   \n",
       "a9246643-2d3e-4bfa-8d8d-42da289f2e00 fb84d8cd-faf3-463b-8754-a18eb73e5d20  0.000000   \n",
       "\n",
       "                                                                           y_true  \\\n",
       "ix_source                            ix_target                                      \n",
       "d4468f99-877a-4772-8826-bb1d24f88ec7 134e55ca-a655-4d9d-b997-77bffdca9bd9       1   \n",
       "b8e81c89-45bf-477e-ac25-3c20ae97be3c 7c7ed72b-6006-4c04-85f4-ed47466e9deb       1   \n",
       "a9246643-2d3e-4bfa-8d8d-42da289f2e00 fb84d8cd-faf3-463b-8754-a18eb73e5d20       0   \n",
       "\n",
       "                                                                           y_pred  \\\n",
       "ix_source                            ix_target                                      \n",
       "d4468f99-877a-4772-8826-bb1d24f88ec7 134e55ca-a655-4d9d-b997-77bffdca9bd9       1   \n",
       "b8e81c89-45bf-477e-ac25-3c20ae97be3c 7c7ed72b-6006-4c04-85f4-ed47466e9deb       1   \n",
       "a9246643-2d3e-4bfa-8d8d-42da289f2e00 fb84d8cd-faf3-463b-8754-a18eb73e5d20       0   \n",
       "\n",
       "                                                                           iscorrect  \n",
       "ix_source                            ix_target                                        \n",
       "d4468f99-877a-4772-8826-bb1d24f88ec7 134e55ca-a655-4d9d-b997-77bffdca9bd9       True  \n",
       "b8e81c89-45bf-477e-ac25-3c20ae97be3c 7c7ed72b-6006-4c04-85f4-ed47466e9deb       True  \n",
       "a9246643-2d3e-4bfa-8d8d-42da289f2e00 fb84d8cd-faf3-463b-8754-a18eb73e5d20       True  "
      ]
     },
     "execution_count": 33,
     "metadata": {},
     "output_type": "execute_result"
    }
   ],
   "source": [
    "comparison.sample(3)"
   ]
  }
 ],
 "metadata": {
  "kernelspec": {
   "display_name": "Python [default]",
   "language": "python",
   "name": "python3"
  },
  "language_info": {
   "codemirror_mode": {
    "name": "ipython",
    "version": 3
   },
   "file_extension": ".py",
   "mimetype": "text/x-python",
   "name": "python",
   "nbconvert_exporter": "python",
   "pygments_lexer": "ipython3",
   "version": "3.6.1"
  }
 },
 "nbformat": 4,
 "nbformat_minor": 2
}
