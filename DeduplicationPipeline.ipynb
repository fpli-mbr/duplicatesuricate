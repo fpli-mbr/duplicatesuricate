{
 "cells": [
  {
   "cell_type": "code",
   "execution_count": 2,
   "metadata": {
    "collapsed": false
   },
   "outputs": [],
   "source": [
    "import neatmartinet as nm\n",
    "from duplicatesuricate import Launcher,RecordLinker\n",
    "from duplicatesuricate.evaluation import FuncEvaluationModel\n",
    "import duplicatesuricate.preprocessing.companycleaning as cc"
   ]
  },
  {
   "cell_type": "markdown",
   "metadata": {},
   "source": [
    "# Load Data"
   ]
  },
  {
   "cell_type": "code",
   "execution_count": 3,
   "metadata": {
    "collapsed": true
   },
   "outputs": [],
   "source": [
    "filename_input='f40_md2.csv'\n",
    "filename_target='p11_md2.csv'\n",
    "filename_out='f40_to_p11_' #+timeextract"
   ]
  },
  {
   "cell_type": "code",
   "execution_count": 4,
   "metadata": {
    "collapsed": false
   },
   "outputs": [],
   "source": [
    "df_target=pd.read_csv(filename_target,index_col=0)\n",
    "#df_input = pd.read_csv(filename_input,index_col=0)"
   ]
  },
  {
   "cell_type": "code",
   "execution_count": 5,
   "metadata": {
    "collapsed": false
   },
   "outputs": [
    {
     "name": "stdout",
     "output_type": "stream",
     "text": [
      "Index(['KRAUS', 'LAND1', 'LIFNR', 'NAME1', 'NAME2', 'ORT01', 'PSTLZ', 'STCD1',\n",
      "       'STCD2', 'STCEG', 'STRAS', 'SYSID', 'VBUND'],\n",
      "      dtype='object')\n"
     ]
    },
    {
     "data": {
      "text/html": [
       "<div>\n",
       "<style scoped>\n",
       "    .dataframe tbody tr th:only-of-type {\n",
       "        vertical-align: middle;\n",
       "    }\n",
       "\n",
       "    .dataframe tbody tr th {\n",
       "        vertical-align: top;\n",
       "    }\n",
       "\n",
       "    .dataframe thead th {\n",
       "        text-align: right;\n",
       "    }\n",
       "</style>\n",
       "<table border=\"1\" class=\"dataframe\">\n",
       "  <thead>\n",
       "    <tr style=\"text-align: right;\">\n",
       "      <th></th>\n",
       "      <th>KRAUS</th>\n",
       "      <th>LAND1</th>\n",
       "      <th>LIFNR</th>\n",
       "      <th>NAME1</th>\n",
       "      <th>NAME2</th>\n",
       "      <th>ORT01</th>\n",
       "      <th>PSTLZ</th>\n",
       "      <th>STCD1</th>\n",
       "      <th>STCD2</th>\n",
       "      <th>STCEG</th>\n",
       "      <th>STRAS</th>\n",
       "      <th>SYSID</th>\n",
       "      <th>VBUND</th>\n",
       "    </tr>\n",
       "    <tr>\n",
       "      <th>companysysid</th>\n",
       "      <th></th>\n",
       "      <th></th>\n",
       "      <th></th>\n",
       "      <th></th>\n",
       "      <th></th>\n",
       "      <th></th>\n",
       "      <th></th>\n",
       "      <th></th>\n",
       "      <th></th>\n",
       "      <th></th>\n",
       "      <th></th>\n",
       "      <th></th>\n",
       "      <th></th>\n",
       "    </tr>\n",
       "  </thead>\n",
       "  <tbody>\n",
       "    <tr>\n",
       "      <th>P11_2003441</th>\n",
       "      <td>374521706</td>\n",
       "      <td>BE</td>\n",
       "      <td>2003441</td>\n",
       "      <td>EMERSON &amp; CUMING MICROWAVE PRODUCTS</td>\n",
       "      <td>NV</td>\n",
       "      <td>Westerlo Belgium</td>\n",
       "      <td>2260</td>\n",
       "      <td>NaN</td>\n",
       "      <td>457356285</td>\n",
       "      <td>BE0457356285</td>\n",
       "      <td>Njverheidststraat 7a</td>\n",
       "      <td>P11</td>\n",
       "      <td>NaN</td>\n",
       "    </tr>\n",
       "    <tr>\n",
       "      <th>P11_2003442</th>\n",
       "      <td>28382311</td>\n",
       "      <td>BE</td>\n",
       "      <td>2003442</td>\n",
       "      <td>AFCEA EUROPE</td>\n",
       "      <td>ASSOC. COMMUNICATIONS, ELECTRONICS</td>\n",
       "      <td>BRUSSELS</td>\n",
       "      <td>1030</td>\n",
       "      <td>NaN</td>\n",
       "      <td>NaN</td>\n",
       "      <td>BE425390431</td>\n",
       "      <td>RUE COLONEL BOURG 105</td>\n",
       "      <td>P11</td>\n",
       "      <td>NaN</td>\n",
       "    </tr>\n",
       "    <tr>\n",
       "      <th>P11_2003443</th>\n",
       "      <td>483517637</td>\n",
       "      <td>CH</td>\n",
       "      <td>2003443</td>\n",
       "      <td>APCO TECHNOLOGIES SA</td>\n",
       "      <td>NaN</td>\n",
       "      <td>Aigle</td>\n",
       "      <td>1860</td>\n",
       "      <td>NaN</td>\n",
       "      <td>NaN</td>\n",
       "      <td>NaN</td>\n",
       "      <td>Chemin de Champex 10</td>\n",
       "      <td>P11</td>\n",
       "      <td>NaN</td>\n",
       "    </tr>\n",
       "    <tr>\n",
       "      <th>P11_2003444</th>\n",
       "      <td>480213412</td>\n",
       "      <td>CH</td>\n",
       "      <td>2003444</td>\n",
       "      <td>MOWAG GMBH</td>\n",
       "      <td>NaN</td>\n",
       "      <td>KREUZLINGEN</td>\n",
       "      <td>8280</td>\n",
       "      <td>NaN</td>\n",
       "      <td>NaN</td>\n",
       "      <td>CH4403004218-8</td>\n",
       "      <td>UNTERSEESTRASSE 65</td>\n",
       "      <td>P11</td>\n",
       "      <td>NaN</td>\n",
       "    </tr>\n",
       "    <tr>\n",
       "      <th>P11_2003514</th>\n",
       "      <td>537369803</td>\n",
       "      <td>DE</td>\n",
       "      <td>2003514</td>\n",
       "      <td>ComConsult Akademie</td>\n",
       "      <td>NaN</td>\n",
       "      <td>Aachen</td>\n",
       "      <td>52076</td>\n",
       "      <td>NaN</td>\n",
       "      <td>NaN</td>\n",
       "      <td>DE154818876</td>\n",
       "      <td>Pascalstrasse 25</td>\n",
       "      <td>P11</td>\n",
       "      <td>NaN</td>\n",
       "    </tr>\n",
       "  </tbody>\n",
       "</table>\n",
       "</div>"
      ],
      "text/plain": [
       "                  KRAUS LAND1    LIFNR                                NAME1  \\\n",
       "companysysid                                                                  \n",
       "P11_2003441   374521706    BE  2003441  EMERSON & CUMING MICROWAVE PRODUCTS   \n",
       "P11_2003442    28382311    BE  2003442                         AFCEA EUROPE   \n",
       "P11_2003443   483517637    CH  2003443                 APCO TECHNOLOGIES SA   \n",
       "P11_2003444   480213412    CH  2003444                           MOWAG GMBH   \n",
       "P11_2003514   537369803    DE  2003514                  ComConsult Akademie   \n",
       "\n",
       "                                           NAME2             ORT01  PSTLZ  \\\n",
       "companysysid                                                                \n",
       "P11_2003441                                   NV  Westerlo Belgium   2260   \n",
       "P11_2003442   ASSOC. COMMUNICATIONS, ELECTRONICS          BRUSSELS   1030   \n",
       "P11_2003443                                  NaN             Aigle   1860   \n",
       "P11_2003444                                  NaN       KREUZLINGEN   8280   \n",
       "P11_2003514                                  NaN            Aachen  52076   \n",
       "\n",
       "             STCD1      STCD2           STCEG                  STRAS SYSID  \\\n",
       "companysysid                                                                 \n",
       "P11_2003441    NaN  457356285    BE0457356285   Njverheidststraat 7a   P11   \n",
       "P11_2003442    NaN        NaN     BE425390431  RUE COLONEL BOURG 105   P11   \n",
       "P11_2003443    NaN        NaN             NaN   Chemin de Champex 10   P11   \n",
       "P11_2003444    NaN        NaN  CH4403004218-8     UNTERSEESTRASSE 65   P11   \n",
       "P11_2003514    NaN        NaN     DE154818876       Pascalstrasse 25   P11   \n",
       "\n",
       "              VBUND  \n",
       "companysysid         \n",
       "P11_2003441     NaN  \n",
       "P11_2003442     NaN  \n",
       "P11_2003443     NaN  \n",
       "P11_2003444     NaN  \n",
       "P11_2003514     NaN  "
      ]
     },
     "execution_count": 5,
     "metadata": {},
     "output_type": "execute_result"
    }
   ],
   "source": [
    "print(df_target.columns)\n",
    "df_target.head()"
   ]
  },
  {
   "cell_type": "code",
   "execution_count": 6,
   "metadata": {
    "collapsed": false
   },
   "outputs": [],
   "source": [
    "query={'KRAUS': '537369803',\n",
    " 'LAND1': 'DE',\n",
    " 'LIFNR': 'ab',\n",
    " 'NAME1': 'ComConsult',\n",
    " 'ORT01': 'Aachen',\n",
    " 'PSTLZ': '52076',\n",
    " 'STCEG': 'DE154818876',\n",
    " 'STRAS': 'Pascalstr.',\n",
    " 'SYSID': 'df_target',\n",
    "    'STCD1':None,\n",
    "       'STCD2':None,\n",
    " 'VBUND': None}\n",
    "query=pd.Series(query,name='A1')\n",
    "df_input=pd.DataFrame(query).transpose()"
   ]
  },
  {
   "cell_type": "markdown",
   "metadata": {},
   "source": [
    "# Clean Data"
   ]
  },
  {
   "cell_type": "code",
   "execution_count": 7,
   "metadata": {
    "collapsed": true
   },
   "outputs": [],
   "source": [
    "coldict={'duns':'KRAUS',\n",
    " 'name':'NAME1',\n",
    " 'street':'STRAS',\n",
    "        'countrycode':'LAND1'}\n",
    "namecol=coldict['name']\n",
    "streetcol=coldict['street']\n",
    "\n",
    "id_cols=['STCD1','STCD2','STCEG','KRAUS','VBUND']\n",
    "id_scores=[c+'_exactscore' for c in id_cols]\n",
    "formatasstr=id_cols+['PSTLZ','LIFNR']"
   ]
  },
  {
   "cell_type": "code",
   "execution_count": 8,
   "metadata": {
    "collapsed": true
   },
   "outputs": [],
   "source": [
    "def cleanfunc(df,coldict):\n",
    "    for c in formatasstr:\n",
    "        df[c]=df[c].apply(nm.format_int_to_str)\n",
    "    c = coldict['duns']\n",
    "    df[c]=df[c].apply(cc.cleanduns)\n",
    "    c = namecol\n",
    "    df[c]=df[c].apply(nm.format_ascii_lower)\n",
    "    df[c+'_wostopwords']=df[c].apply(cc.rmv_companystopwords)\n",
    "    df[c+'_len']=df[c].apply(cc.name_len)\n",
    "    c = streetcol\n",
    "    df[c]=df[c].apply(nm.format_ascii_lower)\n",
    "    df[c+'_wostopwords']=df[c].apply(cc.rmv_streetstopwords)\n",
    "    return df"
   ]
  },
  {
   "cell_type": "code",
   "execution_count": 9,
   "metadata": {
    "collapsed": true
   },
   "outputs": [],
   "source": [
    "target_records=cleanfunc(df_target,coldict)"
   ]
  },
  {
   "cell_type": "code",
   "execution_count": 10,
   "metadata": {
    "collapsed": false
   },
   "outputs": [],
   "source": [
    "input_records=cleanfunc(df_input,coldict)\n",
    "query=input_records.iloc[0]"
   ]
  },
  {
   "cell_type": "markdown",
   "metadata": {},
   "source": [
    "# Start Deduplication"
   ]
  },
  {
   "cell_type": "code",
   "execution_count": 11,
   "metadata": {
    "collapsed": true
   },
   "outputs": [],
   "source": [
    "from duplicatesuricate import Launcher,RecordLinker\n",
    "from duplicatesuricate.evaluation import FuncEvaluationModel"
   ]
  },
  {
   "cell_type": "markdown",
   "metadata": {},
   "source": [
    "## Define filtering and evaluation model"
   ]
  },
  {
   "cell_type": "markdown",
   "metadata": {},
   "source": [
    "## Define  evaluation model"
   ]
  },
  {
   "cell_type": "code",
   "execution_count": 12,
   "metadata": {
    "collapsed": false
   },
   "outputs": [],
   "source": [
    "#define first filter\n",
    "filter_all_any={'all':[coldict['countrycode']],'any':id_cols}\n",
    "#Define intermediate threshold before further filtering\n",
    "int_threshold={streetcol+'_fuzzyscore':0.5}\n",
    "\n",
    "#Define evaluation model, do not forget the used scores\n",
    "streetscores=[streetcol+'_wostopwords_fuzzyscore',streetcol+'_fuzzyscore']\n",
    "namesscores=[namecol+'_wostopwords_fuzzyscore',namecol+'_fuzzyscore']\n",
    "def evaluation_func(row):\n",
    "    has_sameid=row[id_scores].max()\n",
    "    has_samestreet=row[streetscores].max()\n",
    "    has_samename=row[namesscores].max()\n",
    "    if has_sameid==1:\n",
    "        if has_samestreet>0.5:\n",
    "            return max(has_samestreet,has_samestreet)\n",
    "        else:\n",
    "            return min(has_samestreet,has_samename)\n",
    "    else:\n",
    "        if min(has_samename,has_samename)>0.8:\n",
    "            return min(has_samename,has_samestreet)\n",
    "        else:\n",
    "            return 0\n",
    "used_cols=streetscores+id_scores+namesscores\n",
    "mymodel = FuncEvaluationModel(used_cols=used_cols,eval_func=evaluation_func)"
   ]
  },
  {
   "cell_type": "markdown",
   "metadata": {},
   "source": [
    "## Test the model"
   ]
  },
  {
   "cell_type": "code",
   "execution_count": 13,
   "metadata": {
    "collapsed": false
   },
   "outputs": [
    {
     "name": "stdout",
     "output_type": "stream",
     "text": [
      "companysysid\n",
      "P11_2003514    0.69\n",
      "Name: 1, dtype: float64\n"
     ]
    }
   ],
   "source": [
    "#Test model\n",
    "rl = RecordLinker(df=df_target,filterdict=filter_all_any,\n",
    "                  intermediate_thresholds=int_threshold,evaluator=mymodel,decision_threshold=0.5)\n",
    "y=rl.predict_proba(query)\n",
    "print(y.loc[y>rl.decision_threshold])"
   ]
  },
  {
   "cell_type": "markdown",
   "metadata": {},
   "source": [
    "## Build the launcher and Launch deduplication"
   ]
  },
  {
   "cell_type": "code",
   "execution_count": 14,
   "metadata": {
    "collapsed": true
   },
   "outputs": [],
   "source": [
    "finalmodel = Launcher(input_records=df_input,target_records=df_target,linker=rl,cleanfunc=None)"
   ]
  },
  {
   "cell_type": "code",
   "execution_count": 15,
   "metadata": {
    "collapsed": false
   },
   "outputs": [
    {
     "name": "stdout",
     "output_type": "stream",
     "text": [
      "starting deduplication at 2017-11-29 14:32:37.979627\n",
      "1 of 1 deduplicated | time elapsed 6.762768 s\n",
      "finished work at 2017-11-29 14:32:44.742775\n"
     ]
    }
   ],
   "source": [
    "matches=finalmodel.start_linkage()"
   ]
  },
  {
   "cell_type": "code",
   "execution_count": 16,
   "metadata": {
    "collapsed": false
   },
   "outputs": [],
   "source": [
    "displaycols=[namecol]+[streetcol]+id_cols\n",
    "displayfuzzy=[namecol]+[streetcol]"
   ]
  },
  {
   "cell_type": "code",
   "execution_count": 17,
   "metadata": {
    "collapsed": false
   },
   "outputs": [
    {
     "data": {
      "text/html": [
       "<div>\n",
       "<style scoped>\n",
       "    .dataframe tbody tr th:only-of-type {\n",
       "        vertical-align: middle;\n",
       "    }\n",
       "\n",
       "    .dataframe tbody tr th {\n",
       "        vertical-align: top;\n",
       "    }\n",
       "\n",
       "    .dataframe thead th {\n",
       "        text-align: right;\n",
       "    }\n",
       "</style>\n",
       "<table border=\"1\" class=\"dataframe\">\n",
       "  <thead>\n",
       "    <tr style=\"text-align: right;\">\n",
       "      <th></th>\n",
       "      <th>ix_source</th>\n",
       "      <th>ix_target</th>\n",
       "      <th>STCD2_source</th>\n",
       "      <th>STCD2_target</th>\n",
       "      <th>STCD1_source</th>\n",
       "      <th>STCD1_target</th>\n",
       "      <th>STCEG_source</th>\n",
       "      <th>STCEG_target</th>\n",
       "      <th>NAME1_source</th>\n",
       "      <th>NAME1_target</th>\n",
       "      <th>STRAS_source</th>\n",
       "      <th>STRAS_target</th>\n",
       "      <th>KRAUS_source</th>\n",
       "      <th>KRAUS_target</th>\n",
       "      <th>VBUND_source</th>\n",
       "      <th>VBUND_target</th>\n",
       "      <th>NAME1_score</th>\n",
       "      <th>STRAS_score</th>\n",
       "    </tr>\n",
       "  </thead>\n",
       "  <tbody>\n",
       "    <tr>\n",
       "      <th>0</th>\n",
       "      <td>A1</td>\n",
       "      <td>P11_2003514</td>\n",
       "      <td>None</td>\n",
       "      <td>None</td>\n",
       "      <td>None</td>\n",
       "      <td>None</td>\n",
       "      <td>DE154818876</td>\n",
       "      <td>DE154818876</td>\n",
       "      <td>comconsult</td>\n",
       "      <td>comconsult akademie</td>\n",
       "      <td>pascalstr.</td>\n",
       "      <td>pascalstrasse 25</td>\n",
       "      <td>537369803</td>\n",
       "      <td>537369803</td>\n",
       "      <td>None</td>\n",
       "      <td>None</td>\n",
       "      <td>0.69</td>\n",
       "      <td>0.69</td>\n",
       "    </tr>\n",
       "  </tbody>\n",
       "</table>\n",
       "</div>"
      ],
      "text/plain": [
       "  ix_source    ix_target STCD2_source STCD2_target STCD1_source STCD1_target  \\\n",
       "0        A1  P11_2003514         None         None         None         None   \n",
       "\n",
       "  STCEG_source STCEG_target NAME1_source         NAME1_target STRAS_source  \\\n",
       "0  DE154818876  DE154818876   comconsult  comconsult akademie   pascalstr.   \n",
       "\n",
       "       STRAS_target KRAUS_source KRAUS_target VBUND_source VBUND_target  \\\n",
       "0  pascalstrasse 25    537369803    537369803         None         None   \n",
       "\n",
       "   NAME1_score  STRAS_score  \n",
       "0         0.69         0.69  "
      ]
     },
     "execution_count": 17,
     "metadata": {},
     "output_type": "execute_result"
    }
   ],
   "source": [
    "results=finalmodel.format_results(matches,display=displaycols,fuzzy=displayfuzzy)\n",
    "results.head()"
   ]
  },
  {
   "cell_type": "code",
   "execution_count": 18,
   "metadata": {
    "collapsed": false
   },
   "outputs": [],
   "source": [
    "timeextract=pd.datetime.now().strftime('%Y%M%d-%H{}%m'.format('h'))\n",
    "filename_out=filename_out+timeextract+'.xlsx'"
   ]
  },
  {
   "cell_type": "code",
   "execution_count": 19,
   "metadata": {
    "collapsed": true
   },
   "outputs": [],
   "source": [
    "results.to_excel(filename_out,index=True)"
   ]
  }
 ],
 "metadata": {
  "kernelspec": {
   "display_name": "Python 3",
   "language": "python",
   "name": "python3"
  },
  "language_info": {
   "codemirror_mode": {
    "name": "ipython",
    "version": 3
   },
   "file_extension": ".py",
   "mimetype": "text/x-python",
   "name": "python",
   "nbconvert_exporter": "python",
   "pygments_lexer": "ipython3",
   "version": "3.6.1"
  }
 },
 "nbformat": 4,
 "nbformat_minor": 2
}
